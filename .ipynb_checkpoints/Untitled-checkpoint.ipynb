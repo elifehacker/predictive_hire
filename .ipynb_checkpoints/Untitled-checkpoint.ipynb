{
 "cells": [
  {
   "cell_type": "code",
   "execution_count": 45,
   "metadata": {
    "scrolled": true
   },
   "outputs": [
    {
     "name": "stdout",
     "output_type": "stream",
     "text": [
      "                         _id  MCQ_A10  MCQ_A11  MCQ_A13  MCQ_A14  MCQ_A15  \\\n",
      "0   5c76d8471367c00100f89d6b        4        2        1        2        4   \n",
      "10  5bd778537122170100b35488        5        2        2        3        4   \n",
      "11  5bb2f9ce9eb5250100d2363e        4        3        2        2        4   \n",
      "12  5bbf244b32d91601002dfccc        4        2        1        2        3   \n",
      "13  5bf88cb012596a01003025b7        5        1        2        2        5   \n",
      "17  5bbc16f5c0d9800100c5e5e7        5        1        2        2        4   \n",
      "18  5bb315c89eb5250100d236ba        5        1        1        1        5   \n",
      "19  5bac9d0bed437801000a4ebd        4        2        2        3        4   \n",
      "20  5ba0f6d73f39380100da2442        3        1        1        4        4   \n",
      "21  5bf44773145f370100852ca0        5        2        2        3        4   \n",
      "\n",
      "    MCQ_A18  MCQ_A2  MCQ_A20  MCQ_B7  ...  MCQ_B85  MCQ_B89  MCQ_B90  MCQ_B91  \\\n",
      "0         3       2        4       5  ...        3        2        3        5   \n",
      "10        3       1        3       4  ...        2        3        3        4   \n",
      "11        3       2        2       4  ...        2        3        1        4   \n",
      "12        3       2        2       5  ...        2        3        1        4   \n",
      "13        5       2        5       5  ...        2        5        2        5   \n",
      "17        3       1        4       4  ...        3        2        2        4   \n",
      "18        3       2        3       5  ...        2        3        2        5   \n",
      "19        3       2        3       4  ...        2        2        2        4   \n",
      "20        2       1        3       4  ...        4        2        4        4   \n",
      "21        4       2        3       4  ...        2        2        4        5   \n",
      "\n",
      "    MCQ_B95  MCQ_B98  job_family  gender  selected  \\\n",
      "0         3        3       Sales  female         1   \n",
      "10        4        3       Sales  female         0   \n",
      "11        3        1      Retail    male         0   \n",
      "12        3        3      Retail    male         0   \n",
      "13        2        2       Sales    male         0   \n",
      "17        5        2      Retail    male         1   \n",
      "18        5        2      Retail    male         0   \n",
      "19        3        2       Sales     NaN         1   \n",
      "20        4        4       Sales     NaN         1   \n",
      "21        3        4       Sales  female         0   \n",
      "\n",
      "                                        text_response  \n",
      "0   'Shroud Shifter dude if I want to know the sec...  \n",
      "10  'I didn't want to date anyone here the last ti...  \n",
      "11  'I'm an ISFJ and I enjoy country music and I t...  \n",
      "12  'HighClassSavage|||crush!kill!destroy!|||Urien...  \n",
      "13  'I'm pretty stumped on which type a friend I h...  \n",
      "17  'I grew up with this movie - it came out when ...  \n",
      "18  'calm pleasant  soothing relaxing soft gentle ...  \n",
      "19  'Funny you say that, last night I told my Dad ...  \n",
      "20  I'll tell you just as I tell anyone who tries ...  \n",
      "21  'Oh, I used to be funny.  Haven't been particu...  \n",
      "\n",
      "[10 rows x 25 columns]\n",
      "['Sales' 'Retail' 'CallCentre']\n"
     ]
    }
   ],
   "source": [
    "import pandas as pd\n",
    "from sklearn import preprocessing\n",
    "import sklearn.metrics as metrics\n",
    "\n",
    "le = preprocessing.LabelEncoder()\n",
    "\n",
    "data=pd.read_csv(\"sample_dataset.csv\")\n",
    "data = data[data['selected'] != -1]\n",
    "print(data.head(10))\n",
    "\n",
    "uniqueValues = data['job_family'].unique()\n",
    "\n",
    "print(uniqueValues)\n",
    "\n",
    "'''\n",
    "le_job = preprocessing.LabelEncoder()\n",
    "job_family = data['job_family'].to_list()\n",
    "le_job.fit(job_family)\n",
    "data['job_code'] = le_job.transform(job_family)\n",
    "'''\n",
    "\n",
    "le_gender = preprocessing.LabelEncoder()\n",
    "gender = data['gender'].to_list()\n",
    "le_gender.fit(gender)\n",
    "data['gender_code'] = le_gender.transform(gender)\n",
    "\n",
    "input_columns = ['MCQ_A10','MCQ_A11','MCQ_A13','MCQ_A14','MCQ_A15','MCQ_A18','MCQ_A2','MCQ_A20','MCQ_B7','MCQ_B76','MCQ_B78','MCQ_B79','MCQ_B8','MCQ_B82','MCQ_B85','MCQ_B89','MCQ_B90','MCQ_B91','MCQ_B95','MCQ_B98','job_code','gender_code']\n",
    "#input_columns = ['MCQ_A10','MCQ_A11','MCQ_A13','MCQ_A14','MCQ_A15','MCQ_A18','MCQ_A2','MCQ_A20','MCQ_B7','MCQ_B76','MCQ_B78','MCQ_B79','MCQ_B8','MCQ_B82','MCQ_B85','MCQ_B89','MCQ_B90','MCQ_B91','MCQ_B95','MCQ_B98','gender_code']"
   ]
  },
  {
   "cell_type": "code",
   "execution_count": 48,
   "metadata": {},
   "outputs": [
    {
     "name": "stdout",
     "output_type": "stream",
     "text": [
      "FOLD 0\n",
      "--------------------------------\n"
     ]
    },
    {
     "ename": "AttributeError",
     "evalue": "'DecisionTreeClassifier' object has no attribute 'fit_transform'",
     "output_type": "error",
     "traceback": [
      "\u001b[1;31m---------------------------------------------------------------------------\u001b[0m",
      "\u001b[1;31mAttributeError\u001b[0m                            Traceback (most recent call last)",
      "\u001b[1;32m<ipython-input-48-bf69acce0b36>\u001b[0m in \u001b[0;36m<module>\u001b[1;34m\u001b[0m\n\u001b[0;32m     25\u001b[0m \u001b[1;33m\u001b[0m\u001b[0m\n\u001b[0;32m     26\u001b[0m     \u001b[1;32mfor\u001b[0m \u001b[0mm\u001b[0m \u001b[1;32min\u001b[0m \u001b[0mmodels\u001b[0m\u001b[1;33m:\u001b[0m\u001b[1;33m\u001b[0m\u001b[1;33m\u001b[0m\u001b[0m\n\u001b[1;32m---> 27\u001b[1;33m         \u001b[0mm\u001b[0m \u001b[1;33m=\u001b[0m \u001b[0mm\u001b[0m\u001b[1;33m.\u001b[0m\u001b[0mfit_transform\u001b[0m\u001b[1;33m(\u001b[0m\u001b[0mx_train\u001b[0m\u001b[1;33m,\u001b[0m \u001b[0my_train\u001b[0m\u001b[1;33m)\u001b[0m\u001b[1;33m\u001b[0m\u001b[1;33m\u001b[0m\u001b[0m\n\u001b[0m\u001b[0;32m     28\u001b[0m         \u001b[0mtrain_accuracy\u001b[0m \u001b[1;33m=\u001b[0m \u001b[0mmetrics\u001b[0m\u001b[1;33m.\u001b[0m\u001b[0maccuracy_score\u001b[0m\u001b[1;33m(\u001b[0m\u001b[0my_train\u001b[0m\u001b[1;33m,\u001b[0m\u001b[0mm\u001b[0m\u001b[1;33m.\u001b[0m\u001b[0mpredict\u001b[0m\u001b[1;33m(\u001b[0m\u001b[0mx_train\u001b[0m\u001b[1;33m)\u001b[0m\u001b[1;33m)\u001b[0m\u001b[1;33m\u001b[0m\u001b[1;33m\u001b[0m\u001b[0m\n\u001b[0;32m     29\u001b[0m         \u001b[0mtest_accuracy\u001b[0m \u001b[1;33m=\u001b[0m \u001b[0mmetrics\u001b[0m\u001b[1;33m.\u001b[0m\u001b[0maccuracy_score\u001b[0m\u001b[1;33m(\u001b[0m\u001b[0my_test\u001b[0m\u001b[1;33m,\u001b[0m\u001b[0mm\u001b[0m\u001b[1;33m.\u001b[0m\u001b[0mpredict\u001b[0m\u001b[1;33m(\u001b[0m\u001b[0mx_test\u001b[0m\u001b[1;33m)\u001b[0m\u001b[1;33m)\u001b[0m\u001b[1;33m\u001b[0m\u001b[1;33m\u001b[0m\u001b[0m\n",
      "\u001b[1;31mAttributeError\u001b[0m: 'DecisionTreeClassifier' object has no attribute 'fit_transform'"
     ]
    }
   ],
   "source": [
    "from sklearn.model_selection import KFold\n",
    "from sklearn.naive_bayes import MultinomialNB, BernoulliNB\n",
    "from sklearn.tree import DecisionTreeClassifier\n",
    "from sklearn.ensemble import RandomForestClassifier\n",
    "from sklearn.neighbors import KNeighborsClassifier\n",
    "\n",
    "models = list()\n",
    "models.append(DecisionTreeClassifier())\n",
    "models.append(MultinomialNB())\n",
    "models.append(BernoulliNB())\n",
    "models.append(RandomForestClassifier())\n",
    "models.append(KNeighborsClassifier())\n",
    "\n",
    "k_folds = 5\n",
    "kfold = KFold(n_splits=k_folds, shuffle=True)\n",
    "for fold, (train_ids, test_ids) in enumerate(kfold.split(data)):\n",
    "    print(f'FOLD {fold}')\n",
    "    print('--------------------------------')\n",
    "    #print(train_ids,test_ids)\n",
    "    #print(data.iloc[train_ids][input_columns])\n",
    "    x_train = data.iloc[train_ids][input_columns]\n",
    "    y_train = data.iloc[train_ids]['selected']\n",
    "    x_test = data.iloc[test_ids][input_columns]\n",
    "    y_test = data.iloc[test_ids]['selected']\n",
    "    \n",
    "    for m in models:\n",
    "        m = m.fit(x_train, y_train)\n",
    "        train_accuracy = metrics.accuracy_score(y_train,m.predict(x_train))\n",
    "        test_accuracy = metrics.accuracy_score(y_test,m.predict(x_test))\n",
    "\n",
    "        print('Train Accuracy = ', train_accuracy , ', Test Accuracy = ', test_accuracy)\n",
    "\n"
   ]
  },
  {
   "cell_type": "code",
   "execution_count": null,
   "metadata": {},
   "outputs": [],
   "source": []
  }
 ],
 "metadata": {
  "kernelspec": {
   "display_name": "Python 3",
   "language": "python",
   "name": "python3"
  },
  "language_info": {
   "codemirror_mode": {
    "name": "ipython",
    "version": 3
   },
   "file_extension": ".py",
   "mimetype": "text/x-python",
   "name": "python",
   "nbconvert_exporter": "python",
   "pygments_lexer": "ipython3",
   "version": "3.8.5"
  }
 },
 "nbformat": 4,
 "nbformat_minor": 4
}
